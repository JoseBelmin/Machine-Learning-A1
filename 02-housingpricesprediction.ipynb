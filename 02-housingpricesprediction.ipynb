{
 "cells": [
  {
   "cell_type": "markdown",
   "id": "aec4d7fe",
   "metadata": {
    "papermill": {
     "duration": 0.00296,
     "end_time": "2025-04-26T05:37:47.044318",
     "exception": false,
     "start_time": "2025-04-26T05:37:47.041358",
     "status": "completed"
    },
    "tags": []
   },
   "source": [
    "## Plug-ins"
   ]
  },
  {
   "cell_type": "code",
   "execution_count": 1,
   "id": "de4bddf3",
   "metadata": {
    "_cell_guid": "b1076dfc-b9ad-4769-8c92-a6c4dae69d19",
    "_uuid": "8f2839f25d086af736a60e9eeb907d3b93b6e0e5",
    "execution": {
     "iopub.execute_input": "2025-04-26T05:37:47.050434Z",
     "iopub.status.busy": "2025-04-26T05:37:47.049725Z",
     "iopub.status.idle": "2025-04-26T05:37:49.999162Z",
     "shell.execute_reply": "2025-04-26T05:37:49.998463Z"
    },
    "papermill": {
     "duration": 2.953821,
     "end_time": "2025-04-26T05:37:50.000492",
     "exception": false,
     "start_time": "2025-04-26T05:37:47.046671",
     "status": "completed"
    },
    "tags": []
   },
   "outputs": [],
   "source": [
    "import pandas as pd\n",
    "import numpy as np\n",
    "import matplotlib.pyplot as plt\n",
    "from sklearn.linear_model import LinearRegression\n",
    "from sklearn.model_selection import train_test_split\n",
    "from sklearn.metrics import mean_squared_error, r2_score\n",
    "import seaborn as sns"
   ]
  },
  {
   "cell_type": "markdown",
   "id": "8a2d64a2",
   "metadata": {
    "papermill": {
     "duration": 0.00206,
     "end_time": "2025-04-26T05:37:50.005218",
     "exception": false,
     "start_time": "2025-04-26T05:37:50.003158",
     "status": "completed"
    },
    "tags": []
   },
   "source": [
    "## Reading Dataset"
   ]
  },
  {
   "cell_type": "code",
   "execution_count": 2,
   "id": "914a9416",
   "metadata": {
    "execution": {
     "iopub.execute_input": "2025-04-26T05:37:50.010761Z",
     "iopub.status.busy": "2025-04-26T05:37:50.010358Z",
     "iopub.status.idle": "2025-04-26T05:37:50.028803Z",
     "shell.execute_reply": "2025-04-26T05:37:50.028194Z"
    },
    "papermill": {
     "duration": 0.022443,
     "end_time": "2025-04-26T05:37:50.029896",
     "exception": false,
     "start_time": "2025-04-26T05:37:50.007453",
     "status": "completed"
    },
    "tags": []
   },
   "outputs": [],
   "source": [
    "# Read and prepare dataset\n",
    "df_house = pd.read_csv('/kaggle/input/house-prices-prediction-dataset/Real estate (1) (1).csv')\n",
    "# Defining Features and Targets\n",
    "features_house = ['X2 house age', 'X3 distance to the nearest MRT station']\n",
    "target_house = 'Y house price of unit area'"
   ]
  },
  {
   "cell_type": "markdown",
   "id": "00b86cd5",
   "metadata": {
    "papermill": {
     "duration": 0.002096,
     "end_time": "2025-04-26T05:37:50.035777",
     "exception": false,
     "start_time": "2025-04-26T05:37:50.033681",
     "status": "completed"
    },
    "tags": []
   },
   "source": [
    "## Data Preparation"
   ]
  },
  {
   "cell_type": "code",
   "execution_count": 3,
   "id": "68030606",
   "metadata": {
    "execution": {
     "iopub.execute_input": "2025-04-26T05:37:50.041096Z",
     "iopub.status.busy": "2025-04-26T05:37:50.040849Z",
     "iopub.status.idle": "2025-04-26T05:37:50.050962Z",
     "shell.execute_reply": "2025-04-26T05:37:50.050355Z"
    },
    "papermill": {
     "duration": 0.013964,
     "end_time": "2025-04-26T05:37:50.051960",
     "exception": false,
     "start_time": "2025-04-26T05:37:50.037996",
     "status": "completed"
    },
    "tags": []
   },
   "outputs": [],
   "source": [
    "X_house = df_house[features_house]\n",
    "y_house = df_house[target_house]"
   ]
  },
  {
   "cell_type": "markdown",
   "id": "48522825",
   "metadata": {
    "papermill": {
     "duration": 0.002017,
     "end_time": "2025-04-26T05:37:50.056425",
     "exception": false,
     "start_time": "2025-04-26T05:37:50.054408",
     "status": "completed"
    },
    "tags": []
   },
   "source": [
    "## Splitting data into Training and Testing sets"
   ]
  },
  {
   "cell_type": "code",
   "execution_count": 4,
   "id": "3a49410b",
   "metadata": {
    "execution": {
     "iopub.execute_input": "2025-04-26T05:37:50.061649Z",
     "iopub.status.busy": "2025-04-26T05:37:50.061426Z",
     "iopub.status.idle": "2025-04-26T05:37:50.067312Z",
     "shell.execute_reply": "2025-04-26T05:37:50.066652Z"
    },
    "papermill": {
     "duration": 0.009654,
     "end_time": "2025-04-26T05:37:50.068262",
     "exception": false,
     "start_time": "2025-04-26T05:37:50.058608",
     "status": "completed"
    },
    "tags": []
   },
   "outputs": [],
   "source": [
    "X_house_train, X_house_test, y_house_train, y_house_test = train_test_split(\n",
    "    X_house, y_house, test_size=0.2, random_state=42\n",
    ")"
   ]
  },
  {
   "cell_type": "markdown",
   "id": "aa338d5d",
   "metadata": {
    "papermill": {
     "duration": 0.001946,
     "end_time": "2025-04-26T05:37:50.072541",
     "exception": false,
     "start_time": "2025-04-26T05:37:50.070595",
     "status": "completed"
    },
    "tags": []
   },
   "source": [
    "## Training Linear Regression Model"
   ]
  },
  {
   "cell_type": "code",
   "execution_count": 5,
   "id": "0dbc7ef8",
   "metadata": {
    "execution": {
     "iopub.execute_input": "2025-04-26T05:37:50.077581Z",
     "iopub.status.busy": "2025-04-26T05:37:50.077373Z",
     "iopub.status.idle": "2025-04-26T05:37:50.105141Z",
     "shell.execute_reply": "2025-04-26T05:37:50.104456Z"
    },
    "papermill": {
     "duration": 0.031557,
     "end_time": "2025-04-26T05:37:50.106171",
     "exception": false,
     "start_time": "2025-04-26T05:37:50.074614",
     "status": "completed"
    },
    "tags": []
   },
   "outputs": [
    {
     "data": {
      "text/html": [
       "<style>#sk-container-id-1 {color: black;background-color: white;}#sk-container-id-1 pre{padding: 0;}#sk-container-id-1 div.sk-toggleable {background-color: white;}#sk-container-id-1 label.sk-toggleable__label {cursor: pointer;display: block;width: 100%;margin-bottom: 0;padding: 0.3em;box-sizing: border-box;text-align: center;}#sk-container-id-1 label.sk-toggleable__label-arrow:before {content: \"▸\";float: left;margin-right: 0.25em;color: #696969;}#sk-container-id-1 label.sk-toggleable__label-arrow:hover:before {color: black;}#sk-container-id-1 div.sk-estimator:hover label.sk-toggleable__label-arrow:before {color: black;}#sk-container-id-1 div.sk-toggleable__content {max-height: 0;max-width: 0;overflow: hidden;text-align: left;background-color: #f0f8ff;}#sk-container-id-1 div.sk-toggleable__content pre {margin: 0.2em;color: black;border-radius: 0.25em;background-color: #f0f8ff;}#sk-container-id-1 input.sk-toggleable__control:checked~div.sk-toggleable__content {max-height: 200px;max-width: 100%;overflow: auto;}#sk-container-id-1 input.sk-toggleable__control:checked~label.sk-toggleable__label-arrow:before {content: \"▾\";}#sk-container-id-1 div.sk-estimator input.sk-toggleable__control:checked~label.sk-toggleable__label {background-color: #d4ebff;}#sk-container-id-1 div.sk-label input.sk-toggleable__control:checked~label.sk-toggleable__label {background-color: #d4ebff;}#sk-container-id-1 input.sk-hidden--visually {border: 0;clip: rect(1px 1px 1px 1px);clip: rect(1px, 1px, 1px, 1px);height: 1px;margin: -1px;overflow: hidden;padding: 0;position: absolute;width: 1px;}#sk-container-id-1 div.sk-estimator {font-family: monospace;background-color: #f0f8ff;border: 1px dotted black;border-radius: 0.25em;box-sizing: border-box;margin-bottom: 0.5em;}#sk-container-id-1 div.sk-estimator:hover {background-color: #d4ebff;}#sk-container-id-1 div.sk-parallel-item::after {content: \"\";width: 100%;border-bottom: 1px solid gray;flex-grow: 1;}#sk-container-id-1 div.sk-label:hover label.sk-toggleable__label {background-color: #d4ebff;}#sk-container-id-1 div.sk-serial::before {content: \"\";position: absolute;border-left: 1px solid gray;box-sizing: border-box;top: 0;bottom: 0;left: 50%;z-index: 0;}#sk-container-id-1 div.sk-serial {display: flex;flex-direction: column;align-items: center;background-color: white;padding-right: 0.2em;padding-left: 0.2em;position: relative;}#sk-container-id-1 div.sk-item {position: relative;z-index: 1;}#sk-container-id-1 div.sk-parallel {display: flex;align-items: stretch;justify-content: center;background-color: white;position: relative;}#sk-container-id-1 div.sk-item::before, #sk-container-id-1 div.sk-parallel-item::before {content: \"\";position: absolute;border-left: 1px solid gray;box-sizing: border-box;top: 0;bottom: 0;left: 50%;z-index: -1;}#sk-container-id-1 div.sk-parallel-item {display: flex;flex-direction: column;z-index: 1;position: relative;background-color: white;}#sk-container-id-1 div.sk-parallel-item:first-child::after {align-self: flex-end;width: 50%;}#sk-container-id-1 div.sk-parallel-item:last-child::after {align-self: flex-start;width: 50%;}#sk-container-id-1 div.sk-parallel-item:only-child::after {width: 0;}#sk-container-id-1 div.sk-dashed-wrapped {border: 1px dashed gray;margin: 0 0.4em 0.5em 0.4em;box-sizing: border-box;padding-bottom: 0.4em;background-color: white;}#sk-container-id-1 div.sk-label label {font-family: monospace;font-weight: bold;display: inline-block;line-height: 1.2em;}#sk-container-id-1 div.sk-label-container {text-align: center;}#sk-container-id-1 div.sk-container {/* jupyter's `normalize.less` sets `[hidden] { display: none; }` but bootstrap.min.css set `[hidden] { display: none !important; }` so we also need the `!important` here to be able to override the default hidden behavior on the sphinx rendered scikit-learn.org. See: https://github.com/scikit-learn/scikit-learn/issues/21755 */display: inline-block !important;position: relative;}#sk-container-id-1 div.sk-text-repr-fallback {display: none;}</style><div id=\"sk-container-id-1\" class=\"sk-top-container\"><div class=\"sk-text-repr-fallback\"><pre>LinearRegression()</pre><b>In a Jupyter environment, please rerun this cell to show the HTML representation or trust the notebook. <br />On GitHub, the HTML representation is unable to render, please try loading this page with nbviewer.org.</b></div><div class=\"sk-container\" hidden><div class=\"sk-item\"><div class=\"sk-estimator sk-toggleable\"><input class=\"sk-toggleable__control sk-hidden--visually\" id=\"sk-estimator-id-1\" type=\"checkbox\" checked><label for=\"sk-estimator-id-1\" class=\"sk-toggleable__label sk-toggleable__label-arrow\">LinearRegression</label><div class=\"sk-toggleable__content\"><pre>LinearRegression()</pre></div></div></div></div></div>"
      ],
      "text/plain": [
       "LinearRegression()"
      ]
     },
     "execution_count": 5,
     "metadata": {},
     "output_type": "execute_result"
    }
   ],
   "source": [
    "model_house = LinearRegression()\n",
    "model_house.fit(X_house_train, y_house_train)"
   ]
  },
  {
   "cell_type": "markdown",
   "id": "a8a19221",
   "metadata": {
    "papermill": {
     "duration": 0.002136,
     "end_time": "2025-04-26T05:37:50.110920",
     "exception": false,
     "start_time": "2025-04-26T05:37:50.108784",
     "status": "completed"
    },
    "tags": []
   },
   "source": [
    "## Making Predictions"
   ]
  },
  {
   "cell_type": "code",
   "execution_count": 6,
   "id": "0c1d5563",
   "metadata": {
    "execution": {
     "iopub.execute_input": "2025-04-26T05:37:50.116107Z",
     "iopub.status.busy": "2025-04-26T05:37:50.115900Z",
     "iopub.status.idle": "2025-04-26T05:37:50.122461Z",
     "shell.execute_reply": "2025-04-26T05:37:50.121952Z"
    },
    "papermill": {
     "duration": 0.010412,
     "end_time": "2025-04-26T05:37:50.123590",
     "exception": false,
     "start_time": "2025-04-26T05:37:50.113178",
     "status": "completed"
    },
    "tags": []
   },
   "outputs": [],
   "source": [
    "y_house_pred = model_house.predict(X_house_test)"
   ]
  },
  {
   "cell_type": "markdown",
   "id": "0876cffe",
   "metadata": {
    "papermill": {
     "duration": 0.00266,
     "end_time": "2025-04-26T05:37:50.129034",
     "exception": false,
     "start_time": "2025-04-26T05:37:50.126374",
     "status": "completed"
    },
    "tags": []
   },
   "source": [
    "## Model Evaluation"
   ]
  },
  {
   "cell_type": "code",
   "execution_count": 7,
   "id": "377770e1",
   "metadata": {
    "execution": {
     "iopub.execute_input": "2025-04-26T05:37:50.135285Z",
     "iopub.status.busy": "2025-04-26T05:37:50.134716Z",
     "iopub.status.idle": "2025-04-26T05:37:50.140332Z",
     "shell.execute_reply": "2025-04-26T05:37:50.139649Z"
    },
    "papermill": {
     "duration": 0.00965,
     "end_time": "2025-04-26T05:37:50.141284",
     "exception": false,
     "start_time": "2025-04-26T05:37:50.131634",
     "status": "completed"
    },
    "tags": []
   },
   "outputs": [
    {
     "name": "stdout",
     "output_type": "stream",
     "text": [
      "\n",
      "House Price Prediction Model Performance:\n",
      "Mean Squared Error (MSE): 71.21\n",
      "R-squared (R²): 0.58\n"
     ]
    }
   ],
   "source": [
    "mse_house = mean_squared_error(y_house_test, y_house_pred)\n",
    "r2_house = r2_score(y_house_test, y_house_pred)\n",
    "\n",
    "# display metrics\n",
    "print(\"\\nHouse Price Prediction Model Performance:\")\n",
    "print(f\"Mean Squared Error (MSE): {mse_house:.2f}\")\n",
    "print(f\"R-squared (R²): {r2_house:.2f}\")"
   ]
  },
  {
   "cell_type": "markdown",
   "id": "f284beba",
   "metadata": {
    "papermill": {
     "duration": 0.002224,
     "end_time": "2025-04-26T05:37:50.146316",
     "exception": false,
     "start_time": "2025-04-26T05:37:50.144092",
     "status": "completed"
    },
    "tags": []
   },
   "source": [
    "## Creating a Scatterplot"
   ]
  },
  {
   "cell_type": "code",
   "execution_count": 8,
   "id": "050ac75c",
   "metadata": {
    "execution": {
     "iopub.execute_input": "2025-04-26T05:37:50.151857Z",
     "iopub.status.busy": "2025-04-26T05:37:50.151678Z",
     "iopub.status.idle": "2025-04-26T05:37:50.346413Z",
     "shell.execute_reply": "2025-04-26T05:37:50.345778Z"
    },
    "papermill": {
     "duration": 0.198708,
     "end_time": "2025-04-26T05:37:50.347477",
     "exception": false,
     "start_time": "2025-04-26T05:37:50.148769",
     "status": "completed"
    },
    "tags": []
   },
   "outputs": [
    {
     "data": {
      "text/plain": [
       "[<matplotlib.lines.Line2D at 0x7945f074ab90>]"
      ]
     },
     "execution_count": 8,
     "metadata": {},
     "output_type": "execute_result"
    },
    {
     "data": {
      "image/png": "[encoded data removed]",
      "text/plain": [
       "<Figure size 1000x600 with 1 Axes>"
      ]
     },
     "metadata": {},
     "output_type": "display_data"
    }
   ],
   "source": [
    "plt.figure(figsize=(10, 6))\n",
    "plt.scatter(y_house_test, y_house_pred, alpha=0.6, color='#27ae60', label='Predicted vs. Actual')\n",
    "plt.plot([y_house_test.min(), y_house_test.max()], [y_house_test.min(), y_house_test.max()],\n",
    "         color='#e74c3c', linestyle='--', linewidth=2, label='Ideal Prediction')"
   ]
  },
  {
   "cell_type": "markdown",
   "id": "080a7fcb",
   "metadata": {
    "papermill": {
     "duration": 0.002626,
     "end_time": "2025-04-26T05:37:50.353228",
     "exception": false,
     "start_time": "2025-04-26T05:37:50.350602",
     "status": "completed"
    },
    "tags": []
   },
   "source": [
    "## Calculating and Plotting Regression Line"
   ]
  },
  {
   "cell_type": "code",
   "execution_count": 9,
   "id": "a559d8a3",
   "metadata": {
    "execution": {
     "iopub.execute_input": "2025-04-26T05:37:50.359509Z",
     "iopub.status.busy": "2025-04-26T05:37:50.359319Z",
     "iopub.status.idle": "2025-04-26T05:37:50.521621Z",
     "shell.execute_reply": "2025-04-26T05:37:50.521004Z"
    },
    "papermill": {
     "duration": 0.166677,
     "end_time": "2025-04-26T05:37:50.522616",
     "exception": false,
     "start_time": "2025-04-26T05:37:50.355939",
     "status": "completed"
    },
    "tags": []
   },
   "outputs": [
    {
     "data": {
      "image/png": "[encoded data removed]",
      "text/plain": [
       "<Figure size 640x480 with 1 Axes>"
      ]
     },
     "metadata": {},
     "output_type": "display_data"
    }
   ],
   "source": [
    "m_house, b_house = np.polyfit(y_house_test, y_house_pred, 1)\n",
    "plt.plot(y_house_test, m_house * y_house_test + b_house, color='#3498db', linewidth=2, label='Regression Line')\n",
    "\n",
    "plt.xlabel('Actual House Price of Unit Area')\n",
    "plt.ylabel('Predicted House Price of Unit Area')\n",
    "plt.title('House Price Prediction Based on House Age and Distance to MRT')\n",
    "plt.legend()\n",
    "plt.grid(True)\n",
    "plt.show()"
   ]
  },
  {
   "cell_type": "markdown",
   "id": "005a164e",
   "metadata": {
    "papermill": {
     "duration": 0.00305,
     "end_time": "2025-04-26T05:37:50.529399",
     "exception": false,
     "start_time": "2025-04-26T05:37:50.526349",
     "status": "completed"
    },
    "tags": []
   },
   "source": []
  }
 ],
 "metadata": {
  "kaggle": {
   "accelerator": "none",
   "dataSources": [
    {
     "datasetId": 6007946,
     "sourceId": 9802467,
     "sourceType": "datasetVersion"
    }
   ],
   "dockerImageVersionId": 31012,
   "isGpuEnabled": false,
   "isInternetEnabled": true,
   "language": "python",
   "sourceType": "notebook"
  },
  "kernelspec": {
   "display_name": "Python 3",
   "language": "python",
   "name": "python3"
  },
  "language_info": {
   "codemirror_mode": {
    "name": "ipython",
    "version": 3
   },
   "file_extension": ".py",
   "mimetype": "text/x-python",
   "name": "python",
   "nbconvert_exporter": "python",
   "pygments_lexer": "ipython3",
   "version": "3.11.11"
  },
  "papermill": {
   "default_parameters": {},
   "duration": 8.209478,
   "end_time": "2025-04-26T05:37:51.049320",
   "environment_variables": {},
   "exception": null,
   "input_path": "__notebook__.ipynb",
   "output_path": "__notebook__.ipynb",
   "parameters": {},
   "start_time": "2025-04-26T05:37:42.839842",
   "version": "2.6.0"
  }
 },
 "nbformat": 4,
 "nbformat_minor": 5
}
