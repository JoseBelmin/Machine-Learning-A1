{
 "cells": [
  {
   "cell_type": "markdown",
   "id": "b9adb19a",
   "metadata": {
    "papermill": {
     "duration": 0.006232,
     "end_time": "2024-10-24T09:28:45.627159",
     "exception": false,
     "start_time": "2024-10-24T09:28:45.620927",
     "status": "completed"
    },
    "tags": []
   },
   "source": [
    "# Loading Dataset and Libraries"
   ]
  },
  {
   "cell_type": "code",
   "execution_count": 1,
   "id": "441dacfe",
   "metadata": {
    "execution": {
     "iopub.execute_input": "2024-10-24T09:28:45.639809Z",
     "iopub.status.busy": "2024-10-24T09:28:45.639266Z",
     "iopub.status.idle": "2024-10-24T09:28:49.155892Z",
     "shell.execute_reply": "2024-10-24T09:28:49.154578Z"
    },
    "papermill": {
     "duration": 3.526235,
     "end_time": "2024-10-24T09:28:49.158996",
     "exception": false,
     "start_time": "2024-10-24T09:28:45.632761",
     "status": "completed"
    },
    "tags": []
   },
   "outputs": [],
   "source": [
    "import pandas as pd\n",
    "import numpy as np\n",
    "import seaborn as sns\n",
    "import matplotlib.pyplot as plt\n",
    "from sklearn.datasets import load_iris\n",
    "from sklearn.model_selection import train_test_split\n",
    "from sklearn.neighbors import KNeighborsClassifier\n",
    "from sklearn.metrics import accuracy_score, classification_report"
   ]
  },
  {
   "cell_type": "markdown",
   "id": "e314f048",
   "metadata": {
    "papermill": {
     "duration": 0.00477,
     "end_time": "2024-10-24T09:28:49.168923",
     "exception": false,
     "start_time": "2024-10-24T09:28:49.164153",
     "status": "completed"
    },
    "tags": []
   },
   "source": [
    "# Load the IRIS Dataset"
   ]
  },
  {
   "cell_type": "code",
   "execution_count": 2,
   "id": "c9f6b77a",
   "metadata": {
    "execution": {
     "iopub.execute_input": "2024-10-24T09:28:49.181076Z",
     "iopub.status.busy": "2024-10-24T09:28:49.180500Z",
     "iopub.status.idle": "2024-10-24T09:28:49.230735Z",
     "shell.execute_reply": "2024-10-24T09:28:49.229064Z"
    },
    "papermill": {
     "duration": 0.05996,
     "end_time": "2024-10-24T09:28:49.234075",
     "exception": false,
     "start_time": "2024-10-24T09:28:49.174115",
     "status": "completed"
    },
    "tags": []
   },
   "outputs": [
    {
     "data": {
      "text/html": [
       "<div>\n",
       "<style scoped>\n",
       "    .dataframe tbody tr th:only-of-type {\n",
       "        vertical-align: middle;\n",
       "    }\n",
       "\n",
       "    .dataframe tbody tr th {\n",
       "        vertical-align: top;\n",
       "    }\n",
       "\n",
       "    .dataframe thead th {\n",
       "        text-align: right;\n",
       "    }\n",
       "</style>\n",
       "<table border=\"1\" class=\"dataframe\">\n",
       "  <thead>\n",
       "    <tr style=\"text-align: right;\">\n",
       "      <th></th>\n",
       "      <th>sepal length (cm)</th>\n",
       "      <th>sepal width (cm)</th>\n",
       "      <th>petal length (cm)</th>\n",
       "      <th>petal width (cm)</th>\n",
       "      <th>species</th>\n",
       "    </tr>\n",
       "  </thead>\n",
       "  <tbody>\n",
       "    <tr>\n",
       "      <th>0</th>\n",
       "      <td>5.1</td>\n",
       "      <td>3.5</td>\n",
       "      <td>1.4</td>\n",
       "      <td>0.2</td>\n",
       "      <td>Iris-setosa</td>\n",
       "    </tr>\n",
       "    <tr>\n",
       "      <th>1</th>\n",
       "      <td>4.9</td>\n",
       "      <td>3.0</td>\n",
       "      <td>1.4</td>\n",
       "      <td>0.2</td>\n",
       "      <td>Iris-setosa</td>\n",
       "    </tr>\n",
       "    <tr>\n",
       "      <th>2</th>\n",
       "      <td>4.7</td>\n",
       "      <td>3.2</td>\n",
       "      <td>1.3</td>\n",
       "      <td>0.2</td>\n",
       "      <td>Iris-setosa</td>\n",
       "    </tr>\n",
       "    <tr>\n",
       "      <th>3</th>\n",
       "      <td>4.6</td>\n",
       "      <td>3.1</td>\n",
       "      <td>1.5</td>\n",
       "      <td>0.2</td>\n",
       "      <td>Iris-setosa</td>\n",
       "    </tr>\n",
       "    <tr>\n",
       "      <th>4</th>\n",
       "      <td>5.0</td>\n",
       "      <td>3.6</td>\n",
       "      <td>1.4</td>\n",
       "      <td>0.2</td>\n",
       "      <td>Iris-setosa</td>\n",
       "    </tr>\n",
       "  </tbody>\n",
       "</table>\n",
       "</div>"
      ],
      "text/plain": [
       "   sepal length (cm)  sepal width (cm)  petal length (cm)  petal width (cm)  \\\n",
       "0                5.1               3.5                1.4               0.2   \n",
       "1                4.9               3.0                1.4               0.2   \n",
       "2                4.7               3.2                1.3               0.2   \n",
       "3                4.6               3.1                1.5               0.2   \n",
       "4                5.0               3.6                1.4               0.2   \n",
       "\n",
       "       species  \n",
       "0  Iris-setosa  \n",
       "1  Iris-setosa  \n",
       "2  Iris-setosa  \n",
       "3  Iris-setosa  \n",
       "4  Iris-setosa  "
      ]
     },
     "execution_count": 2,
     "metadata": {},
     "output_type": "execute_result"
    }
   ],
   "source": [
    "# Load Iris dataset\n",
    "iris = load_iris()\n",
    "\n",
    "# Create a DataFrame from the dataset\n",
    "df = pd.DataFrame(data=iris.data, columns=iris.feature_names)\n",
    "\n",
    "# Add a column for the target species\n",
    "df['species'] = iris.target\n",
    "\n",
    "# Map the target labels (0, 1, 2) to their corresponding species names\n",
    "df['species'] = df['species'].map({0: 'Iris-setosa', 1: 'Iris-versicolor', 2: 'Iris-viriginica'})\n",
    "\n",
    "# View the first few rows of the DataFrame\n",
    "df.head()"
   ]
  },
  {
   "cell_type": "markdown",
   "id": "df48bf26",
   "metadata": {
    "papermill": {
     "duration": 0.005028,
     "end_time": "2024-10-24T09:28:49.244482",
     "exception": false,
     "start_time": "2024-10-24T09:28:49.239454",
     "status": "completed"
    },
    "tags": []
   },
   "source": [
    "# Data Preprocessing"
   ]
  },
  {
   "cell_type": "code",
   "execution_count": 3,
   "id": "6ee8bd0d",
   "metadata": {
    "execution": {
     "iopub.execute_input": "2024-10-24T09:28:49.256783Z",
     "iopub.status.busy": "2024-10-24T09:28:49.256344Z",
     "iopub.status.idle": "2024-10-24T09:28:49.264388Z",
     "shell.execute_reply": "2024-10-24T09:28:49.263170Z"
    },
    "papermill": {
     "duration": 0.016896,
     "end_time": "2024-10-24T09:28:49.266655",
     "exception": false,
     "start_time": "2024-10-24T09:28:49.249759",
     "status": "completed"
    },
    "tags": []
   },
   "outputs": [],
   "source": [
    "# Define the features (X) and the target (y)\n",
    "X = df.drop('species', axis=1) #Features\n",
    "y = df['species'] #Target"
   ]
  },
  {
   "cell_type": "markdown",
   "id": "a7b0cdb3",
   "metadata": {
    "papermill": {
     "duration": 0.004831,
     "end_time": "2024-10-24T09:28:49.276658",
     "exception": false,
     "start_time": "2024-10-24T09:28:49.271827",
     "status": "completed"
    },
    "tags": []
   },
   "source": [
    "# Split the data into Training and Testing sets"
   ]
  },
  {
   "cell_type": "code",
   "execution_count": 4,
   "id": "38bce5da",
   "metadata": {
    "execution": {
     "iopub.execute_input": "2024-10-24T09:28:49.288764Z",
     "iopub.status.busy": "2024-10-24T09:28:49.288281Z",
     "iopub.status.idle": "2024-10-24T09:28:49.299166Z",
     "shell.execute_reply": "2024-10-24T09:28:49.298046Z"
    },
    "papermill": {
     "duration": 0.020092,
     "end_time": "2024-10-24T09:28:49.301833",
     "exception": false,
     "start_time": "2024-10-24T09:28:49.281741",
     "status": "completed"
    },
    "tags": []
   },
   "outputs": [],
   "source": [
    "# 80% Training, 20% Testing\n",
    "X_train, X_test, y_train, y_test = train_test_split(X, y, test_size=0.2, random_state=42)"
   ]
  },
  {
   "cell_type": "markdown",
   "id": "bb8a85c6",
   "metadata": {
    "papermill": {
     "duration": 0.005053,
     "end_time": "2024-10-24T09:28:49.312160",
     "exception": false,
     "start_time": "2024-10-24T09:28:49.307107",
     "status": "completed"
    },
    "tags": []
   },
   "source": [
    "# Train the KNN Classifier"
   ]
  },
  {
   "cell_type": "code",
   "execution_count": 5,
   "id": "66e5993f",
   "metadata": {
    "execution": {
     "iopub.execute_input": "2024-10-24T09:28:49.324910Z",
     "iopub.status.busy": "2024-10-24T09:28:49.323994Z",
     "iopub.status.idle": "2024-10-24T09:28:49.341600Z",
     "shell.execute_reply": "2024-10-24T09:28:49.340457Z"
    },
    "papermill": {
     "duration": 0.026845,
     "end_time": "2024-10-24T09:28:49.344371",
     "exception": false,
     "start_time": "2024-10-24T09:28:49.317526",
     "status": "completed"
    },
    "tags": []
   },
   "outputs": [
    {
     "data": {
      "text/html": [
       "<style>#sk-container-id-1 {color: black;background-color: white;}#sk-container-id-1 pre{padding: 0;}#sk-container-id-1 div.sk-toggleable {background-color: white;}#sk-container-id-1 label.sk-toggleable__label {cursor: pointer;display: block;width: 100%;margin-bottom: 0;padding: 0.3em;box-sizing: border-box;text-align: center;}#sk-container-id-1 label.sk-toggleable__label-arrow:before {content: \"▸\";float: left;margin-right: 0.25em;color: #696969;}#sk-container-id-1 label.sk-toggleable__label-arrow:hover:before {color: black;}#sk-container-id-1 div.sk-estimator:hover label.sk-toggleable__label-arrow:before {color: black;}#sk-container-id-1 div.sk-toggleable__content {max-height: 0;max-width: 0;overflow: hidden;text-align: left;background-color: #f0f8ff;}#sk-container-id-1 div.sk-toggleable__content pre {margin: 0.2em;color: black;border-radius: 0.25em;background-color: #f0f8ff;}#sk-container-id-1 input.sk-toggleable__control:checked~div.sk-toggleable__content {max-height: 200px;max-width: 100%;overflow: auto;}#sk-container-id-1 input.sk-toggleable__control:checked~label.sk-toggleable__label-arrow:before {content: \"▾\";}#sk-container-id-1 div.sk-estimator input.sk-toggleable__control:checked~label.sk-toggleable__label {background-color: #d4ebff;}#sk-container-id-1 div.sk-label input.sk-toggleable__control:checked~label.sk-toggleable__label {background-color: #d4ebff;}#sk-container-id-1 input.sk-hidden--visually {border: 0;clip: rect(1px 1px 1px 1px);clip: rect(1px, 1px, 1px, 1px);height: 1px;margin: -1px;overflow: hidden;padding: 0;position: absolute;width: 1px;}#sk-container-id-1 div.sk-estimator {font-family: monospace;background-color: #f0f8ff;border: 1px dotted black;border-radius: 0.25em;box-sizing: border-box;margin-bottom: 0.5em;}#sk-container-id-1 div.sk-estimator:hover {background-color: #d4ebff;}#sk-container-id-1 div.sk-parallel-item::after {content: \"\";width: 100%;border-bottom: 1px solid gray;flex-grow: 1;}#sk-container-id-1 div.sk-label:hover label.sk-toggleable__label {background-color: #d4ebff;}#sk-container-id-1 div.sk-serial::before {content: \"\";position: absolute;border-left: 1px solid gray;box-sizing: border-box;top: 0;bottom: 0;left: 50%;z-index: 0;}#sk-container-id-1 div.sk-serial {display: flex;flex-direction: column;align-items: center;background-color: white;padding-right: 0.2em;padding-left: 0.2em;position: relative;}#sk-container-id-1 div.sk-item {position: relative;z-index: 1;}#sk-container-id-1 div.sk-parallel {display: flex;align-items: stretch;justify-content: center;background-color: white;position: relative;}#sk-container-id-1 div.sk-item::before, #sk-container-id-1 div.sk-parallel-item::before {content: \"\";position: absolute;border-left: 1px solid gray;box-sizing: border-box;top: 0;bottom: 0;left: 50%;z-index: -1;}#sk-container-id-1 div.sk-parallel-item {display: flex;flex-direction: column;z-index: 1;position: relative;background-color: white;}#sk-container-id-1 div.sk-parallel-item:first-child::after {align-self: flex-end;width: 50%;}#sk-container-id-1 div.sk-parallel-item:last-child::after {align-self: flex-start;width: 50%;}#sk-container-id-1 div.sk-parallel-item:only-child::after {width: 0;}#sk-container-id-1 div.sk-dashed-wrapped {border: 1px dashed gray;margin: 0 0.4em 0.5em 0.4em;box-sizing: border-box;padding-bottom: 0.4em;background-color: white;}#sk-container-id-1 div.sk-label label {font-family: monospace;font-weight: bold;display: inline-block;line-height: 1.2em;}#sk-container-id-1 div.sk-label-container {text-align: center;}#sk-container-id-1 div.sk-container {/* jupyter's `normalize.less` sets `[hidden] { display: none; }` but bootstrap.min.css set `[hidden] { display: none !important; }` so we also need the `!important` here to be able to override the default hidden behavior on the sphinx rendered scikit-learn.org. See: https://github.com/scikit-learn/scikit-learn/issues/21755 */display: inline-block !important;position: relative;}#sk-container-id-1 div.sk-text-repr-fallback {display: none;}</style><div id=\"sk-container-id-1\" class=\"sk-top-container\"><div class=\"sk-text-repr-fallback\"><pre>KNeighborsClassifier()</pre><b>In a Jupyter environment, please rerun this cell to show the HTML representation or trust the notebook. <br />On GitHub, the HTML representation is unable to render, please try loading this page with nbviewer.org.</b></div><div class=\"sk-container\" hidden><div class=\"sk-item\"><div class=\"sk-estimator sk-toggleable\"><input class=\"sk-toggleable__control sk-hidden--visually\" id=\"sk-estimator-id-1\" type=\"checkbox\" checked><label for=\"sk-estimator-id-1\" class=\"sk-toggleable__label sk-toggleable__label-arrow\">KNeighborsClassifier</label><div class=\"sk-toggleable__content\"><pre>KNeighborsClassifier()</pre></div></div></div></div></div>"
      ],
      "text/plain": [
       "KNeighborsClassifier()"
      ]
     },
     "execution_count": 5,
     "metadata": {},
     "output_type": "execute_result"
    }
   ],
   "source": [
    "# Initialize the KNN classifier with k=5\n",
    "knn = KNeighborsClassifier(n_neighbors=5)\n",
    "\n",
    "#Train the model in the training data\n",
    "knn.fit(X_train, y_train)"
   ]
  },
  {
   "cell_type": "markdown",
   "id": "15188bd0",
   "metadata": {
    "papermill": {
     "duration": 0.005289,
     "end_time": "2024-10-24T09:28:49.356173",
     "exception": false,
     "start_time": "2024-10-24T09:28:49.350884",
     "status": "completed"
    },
    "tags": []
   },
   "source": [
    "# Male Predicitions (Testing the Model)"
   ]
  },
  {
   "cell_type": "code",
   "execution_count": 6,
   "id": "5448bdd0",
   "metadata": {
    "execution": {
     "iopub.execute_input": "2024-10-24T09:28:49.368974Z",
     "iopub.status.busy": "2024-10-24T09:28:49.368512Z",
     "iopub.status.idle": "2024-10-24T09:28:49.384069Z",
     "shell.execute_reply": "2024-10-24T09:28:49.382789Z"
    },
    "papermill": {
     "duration": 0.025607,
     "end_time": "2024-10-24T09:28:49.387274",
     "exception": false,
     "start_time": "2024-10-24T09:28:49.361667",
     "status": "completed"
    },
    "tags": []
   },
   "outputs": [],
   "source": [
    "# Name predictions on the test set\n",
    "y_pred = knn.predict(X_test)"
   ]
  },
  {
   "cell_type": "markdown",
   "id": "fc7e17b7",
   "metadata": {
    "papermill": {
     "duration": 0.005264,
     "end_time": "2024-10-24T09:28:49.398160",
     "exception": false,
     "start_time": "2024-10-24T09:28:49.392896",
     "status": "completed"
    },
    "tags": []
   },
   "source": [
    "# Evaluate the Model"
   ]
  },
  {
   "cell_type": "code",
   "execution_count": 7,
   "id": "b1296ffd",
   "metadata": {
    "execution": {
     "iopub.execute_input": "2024-10-24T09:28:49.410954Z",
     "iopub.status.busy": "2024-10-24T09:28:49.410517Z",
     "iopub.status.idle": "2024-10-24T09:28:49.429522Z",
     "shell.execute_reply": "2024-10-24T09:28:49.428173Z"
    },
    "papermill": {
     "duration": 0.029016,
     "end_time": "2024-10-24T09:28:49.432596",
     "exception": false,
     "start_time": "2024-10-24T09:28:49.403580",
     "status": "completed"
    },
    "tags": []
   },
   "outputs": [
    {
     "name": "stdout",
     "output_type": "stream",
     "text": [
      "Accuracy: 1.00\n",
      "Classification Report:\n",
      "                  precision    recall  f1-score   support\n",
      "\n",
      "    Iris-setosa       1.00      1.00      1.00        10\n",
      "Iris-versicolor       1.00      1.00      1.00         9\n",
      "Iris-viriginica       1.00      1.00      1.00        11\n",
      "\n",
      "       accuracy                           1.00        30\n",
      "      macro avg       1.00      1.00      1.00        30\n",
      "   weighted avg       1.00      1.00      1.00        30\n",
      "\n"
     ]
    }
   ],
   "source": [
    "# Calculate the accuracy of the model \n",
    "accuracy = accuracy_score(y_test, y_pred)\n",
    "print(f\"Accuracy: {accuracy:.2f}\")\n",
    "\n",
    "# Generate the calssification report\n",
    "report = classification_report(y_test, y_pred)\n",
    "print(\"Classification Report:\\n\", report)"
   ]
  }
 ],
 "metadata": {
  "kaggle": {
   "accelerator": "none",
   "dataSources": [],
   "dockerImageVersionId": 30786,
   "isGpuEnabled": false,
   "isInternetEnabled": false,
   "language": "python",
   "sourceType": "notebook"
  },
  "kernelspec": {
   "display_name": "Python 3",
   "language": "python",
   "name": "python3"
  },
  "language_info": {
   "codemirror_mode": {
    "name": "ipython",
    "version": 3
   },
   "file_extension": ".py",
   "mimetype": "text/x-python",
   "name": "python",
   "nbconvert_exporter": "python",
   "pygments_lexer": "ipython3",
   "version": "3.10.14"
  },
  "papermill": {
   "default_parameters": {},
   "duration": 7.67218,
   "end_time": "2024-10-24T09:28:50.161369",
   "environment_variables": {},
   "exception": null,
   "input_path": "__notebook__.ipynb",
   "output_path": "__notebook__.ipynb",
   "parameters": {},
   "start_time": "2024-10-24T09:28:42.489189",
   "version": "2.6.0"
  }
 },
 "nbformat": 4,
 "nbformat_minor": 5
}
